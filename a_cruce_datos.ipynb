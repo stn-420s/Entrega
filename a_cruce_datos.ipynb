{
 "cells": [
  {
   "cell_type": "code",
   "execution_count": 1,
   "metadata": {},
   "outputs": [],
   "source": [
    "import sqlite3 as sql\n",
    "import pandas as pd"
   ]
  },
  {
   "cell_type": "code",
   "execution_count": 2,
   "metadata": {},
   "outputs": [],
   "source": [
    "conn=sql.connect(\"db_empleados\")"
   ]
  },
  {
   "cell_type": "code",
   "execution_count": 9,
   "metadata": {},
   "outputs": [],
   "source": [
    "df1=pd.read_csv('BDs\\employee_survey_data.csv', sep=',')\n",
    "df2=pd.read_csv('BDs\\general_data.csv', sep=';')\n",
    "df3=pd.read_csv('BDs\\manager_survey_data.csv', sep=',')\n",
    "df4=pd.read_csv('BDs\\etirement_info.csv', sep=';')"
   ]
  },
  {
   "cell_type": "code",
   "execution_count": 10,
   "metadata": {},
   "outputs": [
    {
     "data": {
      "text/plain": [
       "711"
      ]
     },
     "execution_count": 10,
     "metadata": {},
     "output_type": "execute_result"
    }
   ],
   "source": [
    "df1.to_sql('employee_survey_data',conn,if_exists='replace')\n",
    "df2.to_sql('general_data',conn,if_exists='replace')\n",
    "df3.to_sql('manager_survey_data',conn,if_exists='replace')\n",
    "df4.to_sql('retirement_info',conn,if_exists='replace')"
   ]
  },
  {
   "cell_type": "code",
   "execution_count": 11,
   "metadata": {},
   "outputs": [
    {
     "data": {
      "text/plain": [
       "[('employee_survey_data',),\n",
       " ('general_data',),\n",
       " ('manager_survey_data',),\n",
       " ('retirement_info',)]"
      ]
     },
     "execution_count": 11,
     "metadata": {},
     "output_type": "execute_result"
    }
   ],
   "source": [
    "cur=conn.cursor()\n",
    "cur.execute(\"select name from sqlite_master where type='table'\")\n",
    "cur.fetchall()"
   ]
  },
  {
   "cell_type": "code",
   "execution_count": 12,
   "metadata": {},
   "outputs": [],
   "source": [
    "r=pd.read_sql(\"\"\"select * from employee_survey_data as es\n",
    "left join general_data as gd on es.EmployeeID= gd.EmployeeID \n",
    "left join manager_survey_data as ms on es.EmployeeID= ms.EmployeeID\n",
    "left join retirement_info as ri on es.EmployeeID= ri.EmployeeID\"\"\",conn)"
   ]
  },
  {
   "cell_type": "code",
   "execution_count": 14,
   "metadata": {},
   "outputs": [],
   "source": [
    "r.drop('index',axis=1, inplace=True)"
   ]
  },
  {
   "cell_type": "code",
   "execution_count": 16,
   "metadata": {},
   "outputs": [],
   "source": [
    "\n",
    "r.to_csv('Tablas\\ re.csv', index=True)"
   ]
  }
 ],
 "metadata": {
  "kernelspec": {
   "display_name": "Python 3",
   "language": "python",
   "name": "python3"
  },
  "language_info": {
   "codemirror_mode": {
    "name": "ipython",
    "version": 3
   },
   "file_extension": ".py",
   "mimetype": "text/x-python",
   "name": "python",
   "nbconvert_exporter": "python",
   "pygments_lexer": "ipython3",
   "version": "3.10.7"
  },
  "orig_nbformat": 4
 },
 "nbformat": 4,
 "nbformat_minor": 2
}
